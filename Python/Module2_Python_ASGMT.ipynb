{
 "cells": [
  {
   "cell_type": "markdown",
   "id": "0a18c358-278a-489e-8b3a-cf7a12b17070",
   "metadata": {},
   "source": [
    "# MODULE-2 Fundamentals of python language"
   ]
  },
  {
   "cell_type": "markdown",
   "id": "1caebf9c-29fb-4ec3-a2fe-f96ce8e89d4d",
   "metadata": {},
   "source": [
    "### Write a Python program to check if a number is positive, negative or zero. "
   ]
  },
  {
   "cell_type": "code",
   "execution_count": 12,
   "id": "d48a6414-0bcf-4a7c-ae80-4a5feb88fa43",
   "metadata": {},
   "outputs": [
    {
     "name": "stdout",
     "output_type": "stream",
     "text": [
      "Enter the Number:  0\n"
     ]
    },
    {
     "name": "stdout",
     "output_type": "stream",
     "text": [
      "Your Number is Zero!!\n"
     ]
    }
   ],
   "source": [
    "a = int(input(\"Enter the Number: \"))   #Taking Input from user\n",
    "# checking if a number is positive, negative or zero.\n",
    "if a>0:\n",
    "    print(\"Your NUmber is Positive!!\")\n",
    "elif a==0:\n",
    "    print(\"Your Number is Zero!!\")\n",
    "else:\n",
    "    print(\"Your Number is Negative!!\")\n",
    "    "
   ]
  },
  {
   "cell_type": "markdown",
   "id": "0c1fafdf-5c74-4194-8d61-0a38eedf1a5a",
   "metadata": {},
   "source": [
    "### Write a Python program to get the Factorial number of given number. "
   ]
  },
  {
   "cell_type": "code",
   "execution_count": 40,
   "id": "1f238dc6-2769-4c3b-8c34-fd0b6409ce25",
   "metadata": {},
   "outputs": [
    {
     "name": "stdout",
     "output_type": "stream",
     "text": [
      "Enter the number to find the factorial:  7\n"
     ]
    },
    {
     "name": "stdout",
     "output_type": "stream",
     "text": [
      "The Factorial of 7 is 5040\n"
     ]
    }
   ],
   "source": [
    "a = int(input(\"Enter the number to find the factorial: \"))     #Taking input from user\n",
    "temp=1\n",
    "# Making Loop to find Factorial by multiplying temp variable with i\n",
    "for i in range(1,a+1):\n",
    "        temp = temp*i\n",
    "print(\"The Factorial of\",a,\"is\",temp)\n",
    "    "
   ]
  },
  {
   "cell_type": "markdown",
   "id": "35a0d244-8628-44ed-9ac8-62a1ad18c3bc",
   "metadata": {},
   "source": [
    "### Write a Python program to get the Fibonacci series of given range. "
   ]
  },
  {
   "cell_type": "code",
   "execution_count": 58,
   "id": "c97b5b3e-3e63-46a3-b268-c2615d67ae6b",
   "metadata": {},
   "outputs": [
    {
     "name": "stdout",
     "output_type": "stream",
     "text": [
      "Enter the number you want to print:  5\n"
     ]
    },
    {
     "name": "stdout",
     "output_type": "stream",
     "text": [
      "0 1 1 2 3 "
     ]
    }
   ],
   "source": [
    "n = int(input (\"Enter the number you want to print: \"))     #Taking input from user\n",
    "a = 0    \n",
    "b = 1    \n",
    "# Calculating and printing Fibonacci seires\n",
    "for i in range(0,n):  \n",
    "    print(a, end = \" \")               \n",
    "    c = a+b                  \n",
    "    a = b           \n",
    "    b = c     "
   ]
  },
  {
   "cell_type": "markdown",
   "id": "b1c21837-b353-41b7-92f6-05549f23c375",
   "metadata": {},
   "source": [
    "### How memory is managed in Python\n",
    "###### Memory in pyhton is managed by differebt proccesses such as Garbage Collection, Reference Counting, Generator and Iteretor, and GIL\n",
    "\n",
    "### What is the purpose continue statement in python? \n",
    "###### Python 'continue' statement is used to skip thr execution of the programm block and returns the control to the beginningo of the current loop to start the next iteration."
   ]
  },
  {
   "cell_type": "markdown",
   "id": "7353a3ed-6a2a-4011-ade7-b478d8c81ce1",
   "metadata": {},
   "source": [
    "### Write python program that swap two number with temp variable and without temp variable. "
   ]
  },
  {
   "cell_type": "code",
   "execution_count": 60,
   "id": "52e8c954-8a0c-4899-b8cf-880e49145bee",
   "metadata": {},
   "outputs": [
    {
     "name": "stdout",
     "output_type": "stream",
     "text": [
      "Enter Your First Number:  5\n",
      "Enter Your Second Number:  10\n"
     ]
    },
    {
     "name": "stdout",
     "output_type": "stream",
     "text": [
      "Before swapping: a = 5, b = 10\n",
      "After swapping: a = 10, b = 5\n"
     ]
    }
   ],
   "source": [
    "# Using a Temporary variable\n",
    "a = int(input(\"Enter Your First Number: \"))\n",
    "b = int(input(\"Enter Your Second Number: \"))\n",
    "\n",
    "print(f\"Before swapping: a = {a}, b = {b}\")\n",
    "\n",
    "temp = a\n",
    "a = b\n",
    "b = temp\n",
    "\n",
    "print(f\"After swapping: a = {a}, b = {b}\")\n"
   ]
  },
  {
   "cell_type": "code",
   "execution_count": 62,
   "id": "16dc1b1e-53e3-49d9-a943-186ea8c195ed",
   "metadata": {},
   "outputs": [
    {
     "name": "stdout",
     "output_type": "stream",
     "text": [
      "Enter Your First Number:  5\n",
      "Enter Your Second Number:  10\n"
     ]
    },
    {
     "name": "stdout",
     "output_type": "stream",
     "text": [
      "Before swapping: a = 5, b = 10\n",
      "After swapping: a = 10, b = 5\n"
     ]
    }
   ],
   "source": [
    "# Without using a temporary variable\n",
    "a = int(input(\"Enter Your First Number: \"))\n",
    "b = int(input(\"Enter Your Second Number: \"))\n",
    "\n",
    "print(f\"Before swapping: a = {a}, b = {b}\")\n",
    "\n",
    "a = a + b\n",
    "b = a - b\n",
    "a = a - b\n",
    "\n",
    "print(f\"After swapping: a = {a}, b = {b}\")\n"
   ]
  },
  {
   "cell_type": "markdown",
   "id": "7fc8d0b3-7f00-4110-8ce8-79f5c8f6c82e",
   "metadata": {},
   "source": [
    "### Write a Python program to find whether a given number is even or odd, print out an appropriate message to the user."
   ]
  },
  {
   "cell_type": "code",
   "execution_count": 73,
   "id": "6ed8055b-84cc-4527-8c30-89ef9a19e985",
   "metadata": {},
   "outputs": [
    {
     "name": "stdout",
     "output_type": "stream",
     "text": [
      "Enter Your Number:  7\n"
     ]
    },
    {
     "name": "stdout",
     "output_type": "stream",
     "text": [
      "The number is Odd\n"
     ]
    }
   ],
   "source": [
    "a = int(input(\"Enter Your Number: \"))    #Taking inpt from user\n",
    "# Checking if a number is even or odd\n",
    "if a%2==0:\n",
    "    print(\"The number is Even\")\n",
    "else:\n",
    "    print(\"The number is Odd\")"
   ]
  },
  {
   "cell_type": "markdown",
   "id": "f1287a28-f476-4e28-8b27-dc0196415a37",
   "metadata": {},
   "source": [
    "### Write a Python program to test whether a passed letter is a vowel or not. "
   ]
  },
  {
   "cell_type": "code",
   "execution_count": 80,
   "id": "6bc6c551-1f0a-42dd-b16f-af5998f78ec1",
   "metadata": {},
   "outputs": [
    {
     "name": "stdout",
     "output_type": "stream",
     "text": [
      "Enter a letter:  a\n"
     ]
    },
    {
     "name": "stdout",
     "output_type": "stream",
     "text": [
      "a is a vowel.\n"
     ]
    }
   ],
   "source": [
    "letter = input(\"Enter a letter: \")[0]\n",
    "\n",
    "# Defining a set of vowels\n",
    "vowels = {'a', 'e', 'i', 'o', 'u', 'A', 'E', 'I', 'O', 'U'}\n",
    "\n",
    "# Checking if the input letter is a vowel\n",
    "if letter in vowels:\n",
    "    print(letter,\"is a vowel.\")\n",
    "else:\n",
    "   print(letter,\"is not a vowel.\")\n"
   ]
  },
  {
   "cell_type": "markdown",
   "id": "d1b5f3cd-aaf3-469f-9ea9-cb1c18a6193b",
   "metadata": {},
   "source": [
    "### Write a Python program to sum of three given integers. However, if two values are equal sum will be zero"
   ]
  },
  {
   "cell_type": "code",
   "execution_count": 91,
   "id": "7706f765-8260-4a6c-9dfe-40993f1b78d1",
   "metadata": {},
   "outputs": [
    {
     "name": "stdout",
     "output_type": "stream",
     "text": [
      "Enter the first integer:  3\n",
      "Enter the second integer:  4\n",
      "Enter the third integer:  5\n"
     ]
    },
    {
     "name": "stdout",
     "output_type": "stream",
     "text": [
      "The sum is: 12\n"
     ]
    }
   ],
   "source": [
    "num1 = int(input(\"Enter the first integer: \"))    #Taking inputs from user\n",
    "num2 = int(input(\"Enter the second integer: \"))\n",
    "num3 = int(input(\"Enter the third integer: \"))\n",
    "\n",
    "# Checking if any two numbers are equal\n",
    "if num1 == num2 or num2 == num3 or num1 == num3:\n",
    "    sum_result = 0\n",
    "else:\n",
    "    sum_result = num1 + num2 + num3\n",
    "\n",
    "print(\"The sum is:\",sum_result)\n"
   ]
  },
  {
   "cell_type": "markdown",
   "id": "431640c9-a687-412f-a233-1f3e99545859",
   "metadata": {},
   "source": [
    "### Write a Python program that will return true if the two given integer values are equal or their sum or difference is 5."
   ]
  },
  {
   "cell_type": "code",
   "execution_count": 103,
   "id": "23f41780-a103-48a9-8434-97907c0fd7d9",
   "metadata": {},
   "outputs": [
    {
     "name": "stdout",
     "output_type": "stream",
     "text": [
      "Enter the first integer:  7\n",
      "Enter the second integer:  2\n"
     ]
    },
    {
     "name": "stdout",
     "output_type": "stream",
     "text": [
      "The result is: True\n"
     ]
    }
   ],
   "source": [
    "num1 = int(input(\"Enter the first integer: \"))     # Takin inputs from user\n",
    "num2 = int(input(\"Enter the second integer: \"))\n",
    "\n",
    "# Checking the conditions\n",
    "if num1 == num2 or num1 + num2 == 5 or abs(num1 - num2) == 5:\n",
    "    result = True\n",
    "else:\n",
    "    result = False\n",
    "\n",
    "print(\"The result is:\",result)\n"
   ]
  },
  {
   "cell_type": "markdown",
   "id": "60c72b79-d67e-4708-a311-0757de5f2223",
   "metadata": {},
   "source": [
    "### Write a python program to sum of the first n positive integers. "
   ]
  },
  {
   "cell_type": "code",
   "execution_count": 106,
   "id": "8ff0cf8a-34eb-427e-a17c-e7ab14d6f07d",
   "metadata": {},
   "outputs": [
    {
     "name": "stdout",
     "output_type": "stream",
     "text": [
      "Enter a positive integer:  10\n"
     ]
    },
    {
     "name": "stdout",
     "output_type": "stream",
     "text": [
      "The sum of the first  10 positive integers is: 55\n"
     ]
    }
   ],
   "source": [
    "n = int(input(\"Enter a positive integer: \"))    #Taking input from user\n",
    "sum_of_integers = 0\n",
    "\n",
    "#Calculating sum of +ve numbers\n",
    "for i in range(1, n + 1):\n",
    "    sum_of_integers += i\n",
    "\n",
    "print(\"The sum of the first \",n,\"positive integers is:\",sum_of_integers)"
   ]
  },
  {
   "cell_type": "markdown",
   "id": "ce332f95-7bff-47bc-9929-603ef8c371f9",
   "metadata": {},
   "source": [
    "### Write a Python program to calculate the length of a string."
   ]
  },
  {
   "cell_type": "code",
   "execution_count": 111,
   "id": "145796fd-d09f-4292-9f54-a31696fcd767",
   "metadata": {},
   "outputs": [
    {
     "name": "stdout",
     "output_type": "stream",
     "text": [
      "Enter a string:  Pavan\n"
     ]
    },
    {
     "name": "stdout",
     "output_type": "stream",
     "text": [
      "The length of the string Pavan is: 5\n"
     ]
    }
   ],
   "source": [
    "a = input(\"Enter a string: \")\n",
    "\n",
    "# Printing the length of the string\n",
    "print(\"The length of the string\",a,\"is:\",len(a))\n"
   ]
  },
  {
   "cell_type": "markdown",
   "id": "9f5ae188-0b3c-4e1e-b94d-0a33b5abc47c",
   "metadata": {},
   "source": [
    "### Write a Python program to count the number of characters (character frequency) in a string "
   ]
  },
  {
   "cell_type": "code",
   "execution_count": 114,
   "id": "3632f179-7be6-45d4-9658-3006f3be060d",
   "metadata": {},
   "outputs": [
    {
     "name": "stdout",
     "output_type": "stream",
     "text": [
      "Enter a string:  Pavan\n"
     ]
    },
    {
     "name": "stdout",
     "output_type": "stream",
     "text": [
      "Character frequencies in the string:\n",
      "'P' : 1\n",
      "'a' : 2\n",
      "'v' : 1\n",
      "'n' : 1\n"
     ]
    }
   ],
   "source": [
    "a = input(\"Enter a string: \")\n",
    "freq = {}\n",
    "\n",
    "# Counting character frequencies\n",
    "for char in a:\n",
    "    if char in freq:\n",
    "        freq[char] += 1\n",
    "    else:\n",
    "        freq[char] = 1\n",
    "\n",
    "# Printing character frequencies\n",
    "print(\"Character frequencies in the string:\")\n",
    "for char, count in freq.items():\n",
    "    print(f\"'{char}' : {count}\")\n"
   ]
  },
  {
   "cell_type": "markdown",
   "id": "f130bf9c-4094-45f0-9b55-5ef210ddd060",
   "metadata": {},
   "source": [
    "### What are negative indexes and why are they used\n",
    "###### Negative indexes in programming, particularly in contexts like Python, are used to access elements of a sequence (such as strings, lists, tuples) from the end rather than from the beginning."
   ]
  },
  {
   "cell_type": "markdown",
   "id": "0cc488d0-01bb-4063-ae06-a8dba87db599",
   "metadata": {},
   "source": [
    "### Write a Python program to count occurrences of a substring in a string"
   ]
  },
  {
   "cell_type": "code",
   "execution_count": 133,
   "id": "9a19e9b6-7f40-42ce-89b6-12c1da385f68",
   "metadata": {},
   "outputs": [
    {
     "name": "stdout",
     "output_type": "stream",
     "text": [
      "Enter a string:  world hello world\n",
      "Enter a substring to count:  world\n"
     ]
    },
    {
     "name": "stdout",
     "output_type": "stream",
     "text": [
      "The substring 'world' appears 2 times in the string.\n"
     ]
    }
   ],
   "source": [
    "string_input = input(\"Enter a string: \")               #Taking input from user\n",
    "substring = input(\"Enter a substring to count: \")\n",
    "count = 0\n",
    "len_substring = len(substring)   #Initializing Length\n",
    "len_string = len(string_input)\n",
    "\n",
    "# Loop through the string to count occurrences of the substring\n",
    "for i in range(len_string - len_substring + 1):\n",
    "    if string_input[i:i + len_substring] == substring:\n",
    "        count += 1\n",
    "\n",
    "print(f\"The substring '{substring}' appears {count} times in the string.\")\n"
   ]
  },
  {
   "cell_type": "markdown",
   "id": "9ed75f65-077b-4009-ad25-f29371580cc5",
   "metadata": {},
   "source": [
    "### Write a Python program to count the occurrences of each word in a given sentence"
   ]
  },
  {
   "cell_type": "code",
   "execution_count": 140,
   "id": "789258ac-29ea-459d-9df3-ba49b87e7849",
   "metadata": {},
   "outputs": [
    {
     "name": "stdout",
     "output_type": "stream",
     "text": [
      "Enter a sentence:  hello world is a hello world\n"
     ]
    },
    {
     "name": "stdout",
     "output_type": "stream",
     "text": [
      "Word frequencies in the sentence:\n",
      "'hello': 2\n",
      "'world': 2\n",
      "'is': 1\n",
      "'a': 1\n"
     ]
    }
   ],
   "source": [
    "sentence = input(\"Enter a sentence: \")\n",
    "word_count = {}\n",
    "words = sentence.split()\n",
    "\n",
    "# Counting word frequencies\n",
    "for word in words:\n",
    "x    if word in word_count:\n",
    "        word_count[word] += 1\n",
    "    else:\n",
    "        word_count[word] = 1\n",
    "        \n",
    "print(\"Word frequencies in the sentence:\")\n",
    "for word, count in word_count.items():\n",
    "    print(f\"'{word}': {count}\")\n"
   ]
  },
  {
   "cell_type": "markdown",
   "id": "aaac8161-ca04-4894-b43b-f77ca0418570",
   "metadata": {},
   "source": [
    "### Write a Python program to get a single string from two given strings, separated by a space and swap the first two characters of each string. "
   ]
  },
  {
   "cell_type": "code",
   "execution_count": 145,
   "id": "0fb38174-d3dd-4f69-bcb6-ddc5b7b1a1f9",
   "metadata": {},
   "outputs": [
    {
     "name": "stdout",
     "output_type": "stream",
     "text": [
      "Enter the first string:  hello\n",
      "Enter the second string:  world\n"
     ]
    },
    {
     "name": "stdout",
     "output_type": "stream",
     "text": [
      "The result after swapping first two characters: wollo herld\n"
     ]
    }
   ],
   "source": [
    "string1 = input(\"Enter the first string: \")\n",
    "string2 = input(\"Enter the second string: \")\n",
    "\n",
    "# Checking if both strings have at least 2 characters\n",
    "if len(string1) >= 2 and len(string2) >= 2:\n",
    "    # Extract first two characters of each string\n",
    "    first_two1 = string1[:2]\n",
    "    first_two2 = string2[:2]\n",
    "    swapped_string = first_two2 + string1[2:] + ' ' + first_two1 + string2[2:]\n",
    "\n",
    "    # Print the result\n",
    "    print(f\"The result after swapping first two characters: {swapped_string}\")\n",
    "else:\n",
    "    print(\"Both strings should have at least 2 characters to perform the swap.\")\n"
   ]
  },
  {
   "cell_type": "markdown",
   "id": "7a04c8e8-7461-42e7-ad04-cf45bc5c2e3a",
   "metadata": {},
   "source": [
    "###  Write a Python program to add 'ing' at the end of a given string (length should be at least 3). If the given string already ends with 'ing' then add 'ly' instead if the string length of the given string is less than 3, leave it unchanged."
   ]
  },
  {
   "cell_type": "code",
   "execution_count": 170,
   "id": "840c0844-252a-4a2f-af56-2c3122a40e6a",
   "metadata": {},
   "outputs": [
    {
     "name": "stdout",
     "output_type": "stream",
     "text": [
      "Enter a string:  concatinate\n"
     ]
    },
    {
     "name": "stdout",
     "output_type": "stream",
     "text": [
      "The modified string is: concatinating\n"
     ]
    }
   ],
   "source": [
    "given_string = input(\"Enter a string: \")\n",
    "\n",
    "# Checking conditions and modifing the string accordingly\n",
    "if len(given_string) >= 3:\n",
    "    if given_string.endswith(\"ing\"):\n",
    "        modified_string = given_string + \"ly\"\n",
    "    else:\n",
    "        given_string = given_string.replace(given_string[-1],'')\n",
    "        modified_string = given_string + \"ing\"\n",
    "else:\n",
    "    modified_string = given_string  \n",
    "\n",
    "# Print the modified string\n",
    "print(f\"The modified string is: {modified_string}\")\n"
   ]
  },
  {
   "cell_type": "markdown",
   "id": "53b655cf-3895-4468-95d1-8c31af0f064d",
   "metadata": {},
   "source": [
    "### Write a Python function that takes a list of words and returns the length of the longest one. \n"
   ]
  },
  {
   "cell_type": "code",
   "execution_count": 173,
   "id": "97d18dc8-0329-46f8-b3fc-53c68d95623e",
   "metadata": {},
   "outputs": [
    {
     "name": "stdout",
     "output_type": "stream",
     "text": [
      "The length of the longest word is: 10\n"
     ]
    }
   ],
   "source": [
    "words_list = ['apple', 'banana', 'cherry', 'durian', 'elderberry']    #initializing a list\n",
    "max_length = 0\n",
    "\n",
    "# Loop through the list to find the longest word\n",
    "for word in words_list:\n",
    "    # Calculating the length of the current word\n",
    "    current_length = 0\n",
    "    for char in word:\n",
    "        current_length += 1\n",
    "    \n",
    "    # Updating max_length if current word length is longer\n",
    "    if current_length > max_length:\n",
    "        max_length = current_length\n",
    "\n",
    "# Print the length of the longest word\n",
    "print(f\"The length of the longest word is: {max_length}\")\n"
   ]
  },
  {
   "cell_type": "markdown",
   "id": "908ce09f-1f2d-40f4-b961-3407f0a8563c",
   "metadata": {},
   "source": [
    "### Write a Python function to reverses a string if its length is a multiple of 4"
   ]
  },
  {
   "cell_type": "code",
   "execution_count": 190,
   "id": "96496fa8-3a0b-4e4f-afd0-570a035b69ae",
   "metadata": {},
   "outputs": [
    {
     "name": "stdout",
     "output_type": "stream",
     "text": [
      "Enter a string:  helo\n"
     ]
    },
    {
     "name": "stdout",
     "output_type": "stream",
     "text": [
      "The reversed string : oleh\n"
     ]
    }
   ],
   "source": [
    "input_string = input(\"Enter a string: \")\n",
    "\n",
    "# Checking if the length of the string is a multiple of 4\n",
    "if len(input_string) % 4 == 0:\n",
    "    print(\"The reversed string :\",input_string[::-1])\n",
    "else:\n",
    "    print(\"The length of the string is not a multiple of 4, so it remains unchanged.\")\n"
   ]
  },
  {
   "cell_type": "markdown",
   "id": "faf49429-736f-4106-a92c-cf2fd69fde35",
   "metadata": {},
   "source": [
    "### Write a Python program to get a string made of the first 2 and the last 2 chars from a given a string. If the string length is less than 2, return instead of the empty string. "
   ]
  },
  {
   "cell_type": "code",
   "execution_count": 202,
   "id": "af2a5a3e-8069-4ae0-add4-57581018d055",
   "metadata": {},
   "outputs": [
    {
     "name": "stdout",
     "output_type": "stream",
     "text": [
      "Enter a String:  making\n"
     ]
    },
    {
     "name": "stdout",
     "output_type": "stream",
     "text": [
      "mang\n"
     ]
    }
   ],
   "source": [
    "input_string = input(\"Enter a String: \")\n",
    "\n",
    "if len(input_string)>2:\n",
    "    print(input_string[0:2]+input_string[-2:])\n",
    "else:\n",
    "    print(input_string)"
   ]
  }
 ],
 "metadata": {
  "kernelspec": {
   "display_name": "Python 3 (ipykernel)",
   "language": "python",
   "name": "python3"
  },
  "language_info": {
   "codemirror_mode": {
    "name": "ipython",
    "version": 3
   },
   "file_extension": ".py",
   "mimetype": "text/x-python",
   "name": "python",
   "nbconvert_exporter": "python",
   "pygments_lexer": "ipython3",
   "version": "3.12.4"
  }
 },
 "nbformat": 4,
 "nbformat_minor": 5
}
