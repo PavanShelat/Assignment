{
 "cells": [
  {
   "cell_type": "markdown",
   "id": "ab0da52b-7bb3-4278-8b0a-2a4e7b497321",
   "metadata": {},
   "source": [
    "# Module 3 - Collections,Function and Modules in python"
   ]
  },
  {
   "cell_type": "markdown",
   "id": "5f1e1007-6066-4d61-9772-8cc4b116fe84",
   "metadata": {},
   "source": [
    "### What is List? How will you reverse a list? \n",
    "\n",
    "a list is a mutable, ordered sequence of elements enclosed in square brackets. \n"
   ]
  },
  {
   "cell_type": "code",
   "execution_count": 6,
   "id": "30c54ac3-46c8-464f-9d03-a89d94aae105",
   "metadata": {},
   "outputs": [
    {
     "data": {
      "text/plain": [
       "[5, 4, 3, 2, 1]"
      ]
     },
     "execution_count": 6,
     "metadata": {},
     "output_type": "execute_result"
    }
   ],
   "source": [
    "my_list = [1, 2, 3, 4, 5]\n",
    "reversed_list = my_list[::-1]\n",
    "reversed_list"
   ]
  },
  {
   "cell_type": "markdown",
   "id": "9fa5ccb6-3255-4373-9afc-7213df14871f",
   "metadata": {},
   "source": [
    "### How will you remove last object from a list? "
   ]
  },
  {
   "cell_type": "code",
   "execution_count": 8,
   "id": "57ed9c25-8bd0-4c45-9df3-746bf6234124",
   "metadata": {},
   "outputs": [
    {
     "data": {
      "text/plain": [
       "[1, 2, 3, 4]"
      ]
     },
     "execution_count": 8,
     "metadata": {},
     "output_type": "execute_result"
    }
   ],
   "source": [
    "my_list = [1, 2, 3, 4, 5]\n",
    "last_item = my_list.pop()\n",
    "my_list"
   ]
  },
  {
   "cell_type": "markdown",
   "id": "9c78f518-45f1-415f-9551-da0cdd18fac0",
   "metadata": {},
   "source": [
    "### Suppose list1 is [2, 33, 222, 14, and 25], what is list1 [-1]?"
   ]
  },
  {
   "cell_type": "code",
   "execution_count": 12,
   "id": "ab44dc27-4d99-4779-8015-95178a3d93d9",
   "metadata": {},
   "outputs": [
    {
     "data": {
      "text/plain": [
       "25"
      ]
     },
     "execution_count": 12,
     "metadata": {},
     "output_type": "execute_result"
    }
   ],
   "source": [
    "list1 = [2,33,222,14,25]\n",
    "list1[-1]"
   ]
  },
  {
   "cell_type": "markdown",
   "id": "0f9210ee-7bcb-4639-acfc-b91eb5c33dc5",
   "metadata": {},
   "source": [
    "### Differentiate between append () and extend () methods?\n",
    "In Python, the append() method adds a single element to the end of a list, while the extend() method adds all the elements of an iterable to the end of the list."
   ]
  },
  {
   "cell_type": "markdown",
   "id": "c42366a5-b778-4b0b-ad48-3920e998e6ae",
   "metadata": {},
   "source": [
    "### Write a Python function to get the largest number, smallest num and sum of all from a list."
   ]
  },
  {
   "cell_type": "code",
   "execution_count": 19,
   "id": "52c5d43b-0046-42da-821e-b980f881eee3",
   "metadata": {},
   "outputs": [
    {
     "name": "stdout",
     "output_type": "stream",
     "text": [
      "10\n",
      "2\n",
      "34\n"
     ]
    }
   ],
   "source": [
    "lst = [2,3,6,4,9,10]\n",
    "print(max(lst))\n",
    "print(min(lst))\n",
    "print(sum(lst))"
   ]
  },
  {
   "cell_type": "markdown",
   "id": "46d83c29-e45d-4dec-95c5-57f19dcbcf4e",
   "metadata": {},
   "source": [
    "### How will you compare two lists?\n"
   ]
  },
  {
   "cell_type": "code",
   "execution_count": 23,
   "id": "c02eb349-fbe8-4929-9442-5956e63e90cc",
   "metadata": {},
   "outputs": [
    {
     "name": "stdout",
     "output_type": "stream",
     "text": [
      "Lists are equal\n"
     ]
    }
   ],
   "source": [
    "list1 = [1, 2, 3]\n",
    "list2 = [1, 2, 3]\n",
    "\n",
    "if list1 == list2:\n",
    "    print(\"Lists are equal\")\n",
    "else:\n",
    "    print(\"Lists are not equal\")\n"
   ]
  },
  {
   "cell_type": "markdown",
   "id": "a926d7c8-5ad1-4e17-86a7-c6026f9a89e2",
   "metadata": {},
   "source": [
    "### Write a Python program to count the number of strings where the string length is 2 or more and the first and last character are same from a given list of strings. "
   ]
  },
  {
   "cell_type": "code",
   "execution_count": 28,
   "id": "8b832291-258a-43e9-b969-37bbc07bdb6e",
   "metadata": {},
   "outputs": [
    {
     "name": "stdout",
     "output_type": "stream",
     "text": [
      "Number of strings where first and last character are same: 4\n"
     ]
    }
   ],
   "source": [
    "# list of strings\n",
    "string_list = [\"abc\", \"xyz\", \"aba\", \"1221\", \"aa\", \"x\", \"bbb\"]\n",
    "count = 0\n",
    "\n",
    "for s in string_list:\n",
    "    # Checking if string length is 2 or more and first and last characters are the same\n",
    "    if len(s) >= 2 and s[0] == s[-1]:\n",
    "        count += 1\n",
    "\n",
    "# Print the count of strings that meet the criteria\n",
    "print(\"Number of strings where first and last character are same:\",count)\n"
   ]
  },
  {
   "cell_type": "markdown",
   "id": "78842678-b926-4182-b173-f85b728ce484",
   "metadata": {},
   "source": [
    "### Write a Python program to remove duplicates from a list. "
   ]
  },
  {
   "cell_type": "code",
   "execution_count": 31,
   "id": "7955fd5b-6b34-42bd-8710-115e5379641a",
   "metadata": {},
   "outputs": [
    {
     "name": "stdout",
     "output_type": "stream",
     "text": [
      "List with duplicates removed:\n",
      "[1, 2, 3, 4, 5, 6]\n"
     ]
    }
   ],
   "source": [
    "original_list = [1, 2, 2, 3, 4, 4, 5, 6, 6]\n",
    "unique_list = []\n",
    "\n",
    "for item in original_list:\n",
    "    # Add the item to unique_list if it's not already there\n",
    "    if item not in unique_list:\n",
    "        unique_list.append(item)\n",
    "\n",
    "# Print the list with duplicates removed\n",
    "print(\"List with duplicates removed:\")\n",
    "print(unique_list)\n"
   ]
  },
  {
   "cell_type": "markdown",
   "id": "22565580-2163-4947-a2d0-d81084f31cf6",
   "metadata": {},
   "source": [
    "### Write a Python program to check a list is empty or not. "
   ]
  },
  {
   "cell_type": "code",
   "execution_count": 44,
   "id": "75e29956-37f0-464e-b7ea-71f7f0d1acb9",
   "metadata": {},
   "outputs": [
    {
     "name": "stdout",
     "output_type": "stream",
     "text": [
      "List is empty\n"
     ]
    }
   ],
   "source": [
    "my_list = []\n",
    "\n",
    "# Check if the list is empty\n",
    "if my_list:\n",
    "    print(\"List is not empty\")\n",
    "else:\n",
    "    print(\"List is empty\")\n"
   ]
  },
  {
   "cell_type": "markdown",
   "id": "a3273d62-4a18-45c2-9b8e-1449f9266f64",
   "metadata": {},
   "source": [
    "### Write a Python function that takes two lists and returns true if they have at least one common member. "
   ]
  },
  {
   "cell_type": "code",
   "execution_count": 47,
   "id": "7a724ea6-cd77-4bf0-b317-e3bf8155656a",
   "metadata": {},
   "outputs": [
    {
     "name": "stdout",
     "output_type": "stream",
     "text": [
      "True\n"
     ]
    }
   ],
   "source": [
    "list1 = [1, 2, 3, 4, 5]\n",
    "list2 = [5, 6, 7, 8, 9]\n",
    "\n",
    "flag = False\n",
    "\n",
    "for item1 in list1:\n",
    "    for item2 in list2:\n",
    "        # Check if there's a common element\n",
    "        if item1 == item2:\n",
    "            flag = True\n",
    "            break\n",
    "    if flag:\n",
    "        break\n",
    "\n",
    "# Check the flag to determine if there's a common member\n",
    "if flag:\n",
    "    print(\"True\")\n",
    "else:\n",
    "    print(\"False\")\n"
   ]
  },
  {
   "cell_type": "markdown",
   "id": "2bc11525-f1b3-4862-b060-60ab86ac187b",
   "metadata": {},
   "source": [
    "### Write a Python program to generate and print a list of first and last 5 elements where the values are square of numbers between 1 and 30."
   ]
  },
  {
   "cell_type": "code",
   "execution_count": 53,
   "id": "ac9bac01-976e-4954-b4b0-a0996a9ef7a6",
   "metadata": {},
   "outputs": [
    {
     "name": "stdout",
     "output_type": "stream",
     "text": [
      "\n",
      "First 5 elements:\n",
      "[1, 4, 9, 16, 25]\n",
      "\n",
      "Last 5 elements:\n",
      "[676, 729, 784, 841, 900]\n"
     ]
    }
   ],
   "source": [
    "# Generate squares of numbers from 1 to 30\n",
    "squares = [x ** 2 for x in range(1, 31)]\n",
    "\n",
    "# print first 5 elements\n",
    "print(\"\\nFirst 5 elements:\")\n",
    "print(squares[:5])\n",
    "\n",
    "# print last 5 elements\n",
    "print(\"\\nLast 5 elements:\")\n",
    "print(squares[-5:])\n"
   ]
  },
  {
   "cell_type": "markdown",
   "id": "6b44400a-c1be-4b5d-b300-8ff866fb9946",
   "metadata": {},
   "source": [
    "### Write a Python function that takes a list and returns a new list with unique elements of the first list."
   ]
  },
  {
   "cell_type": "code",
   "execution_count": 55,
   "id": "9c6d5908-5c2c-446c-9087-aff82cd5108d",
   "metadata": {},
   "outputs": [
    {
     "name": "stdout",
     "output_type": "stream",
     "text": [
      "[1, 2, 3, 4, 5]\n"
     ]
    }
   ],
   "source": [
    "original_list = [1, 2, 2, 3, 4, 4, 5]\n",
    "\n",
    "# Create a new list with unique elements\n",
    "unique_list = []\n",
    "for item in original_list:\n",
    "    if item not in unique_list:\n",
    "        unique_list.append(item)\n",
    "\n",
    "print(unique_list)\n"
   ]
  },
  {
   "cell_type": "markdown",
   "id": "5cd660ef-78e9-487c-b32a-42ad025fee12",
   "metadata": {},
   "source": [
    "###  Write a Python program to convert a list of characters into a string"
   ]
  },
  {
   "cell_type": "code",
   "execution_count": 57,
   "id": "6323f923-24a0-45ca-b363-40403434e703",
   "metadata": {},
   "outputs": [
    {
     "name": "stdout",
     "output_type": "stream",
     "text": [
      "Resulting string: abcde\n"
     ]
    }
   ],
   "source": [
    "char_list = ['a', 'b', 'c', 'd', 'e']\n",
    "\n",
    "# Convert list to string\n",
    "result_string = ''.join(char_list)\n",
    "\n",
    "# Print the resulting string\n",
    "print(\"Resulting string:\", result_string)\n"
   ]
  },
  {
   "cell_type": "markdown",
   "id": "81d30935-fad0-4bdc-bc95-0a0eee2dec4a",
   "metadata": {},
   "source": [
    "### Write a Python program to select an item randomly from a list. "
   ]
  },
  {
   "cell_type": "code",
   "execution_count": 59,
   "id": "1e3455dd-f2c6-4d30-b413-97bf71f03350",
   "metadata": {},
   "outputs": [
    {
     "name": "stdout",
     "output_type": "stream",
     "text": [
      "Randomly selected item: banana\n"
     ]
    }
   ],
   "source": [
    "import random\n",
    "\n",
    "my_list = ['apple', 'banana', 'cherry', 'date', 'elderberry']\n",
    "\n",
    "# Select a random item from the list\n",
    "random_item = random.choice(my_list)\n",
    "\n",
    "# Print the randomly selected item\n",
    "print(\"Randomly selected item:\", random_item)\n"
   ]
  },
  {
   "cell_type": "markdown",
   "id": "afcd8ed3-7513-4373-aa1c-2f91868ca330",
   "metadata": {},
   "source": [
    "###  Write a Python program to find the second smallest number in a list"
   ]
  },
  {
   "cell_type": "code",
   "execution_count": 61,
   "id": "6c95c8c6-c150-4f2f-9475-23ba3d32acb7",
   "metadata": {},
   "outputs": [
    {
     "name": "stdout",
     "output_type": "stream",
     "text": [
      "Second smallest number in the list: 8\n"
     ]
    }
   ],
   "source": [
    "numbers = [12, 45, 2, 41, 31, 10, 8]\n",
    "\n",
    "# Find the smallest number\n",
    "smallest = min(numbers)\n",
    "second_smallest = float('inf')\n",
    "\n",
    "# Iterate through the list to find the second smallest number\n",
    "for num in numbers:\n",
    "    if num > smallest and num < second_smallest:\n",
    "        second_smallest = num\n",
    "\n",
    "print(\"Second smallest number in the list:\", second_smallest)\n"
   ]
  },
  {
   "cell_type": "markdown",
   "id": "9fa59dd1-5fb6-485f-bf77-3b145bb33eef",
   "metadata": {},
   "source": [
    "###  Write a Python program to split a list into different variables."
   ]
  },
  {
   "cell_type": "code",
   "execution_count": 63,
   "id": "fd436cb7-51dd-4f5c-9925-0b341eb79149",
   "metadata": {},
   "outputs": [
    {
     "name": "stdout",
     "output_type": "stream",
     "text": [
      "Variable 1: 1\n",
      "Variable 2: 2\n",
      "Variable 3: 3\n",
      "Variable 4: 4\n",
      "Variable 5: 5\n"
     ]
    }
   ],
   "source": [
    "my_list = [1, 2, 3, 4, 5]\n",
    "\n",
    "# Unpack the list into separate variables\n",
    "var1, var2, var3, var4, var5 = my_list\n",
    "\n",
    "# Print the variables to verify\n",
    "print(\"Variable 1:\", var1)\n",
    "print(\"Variable 2:\", var2)\n",
    "print(\"Variable 3:\", var3)\n",
    "print(\"Variable 4:\", var4)\n",
    "print(\"Variable 5:\", var5)"
   ]
  },
  {
   "cell_type": "markdown",
   "id": "d7d5c2b2-ea8d-46f3-8502-2fe65ac0f6a0",
   "metadata": {},
   "source": [
    "###  Write a Python program to create a tuple with numbers."
   ]
  },
  {
   "cell_type": "code",
   "execution_count": 69,
   "id": "dad60ef4-2534-48e9-a816-bfe1f012e059",
   "metadata": {},
   "outputs": [
    {
     "name": "stdout",
     "output_type": "stream",
     "text": [
      "(1, 2.5, 3.14, 'abc')\n"
     ]
    }
   ],
   "source": [
    "tuple1 = (1, 2.5, 3.14, \"abc\")\n",
    "\n",
    "# Print the tuple\n",
    "print(tuple1)\n"
   ]
  },
  {
   "cell_type": "markdown",
   "id": "6959f4ed-9b3a-4f88-9fa6-563f5c550ce2",
   "metadata": {},
   "source": [
    "### Write a Python program to convert a tuple to a string. "
   ]
  },
  {
   "cell_type": "code",
   "execution_count": 71,
   "id": "54c2dfb2-121a-4bc5-bbec-d71fa73811e0",
   "metadata": {},
   "outputs": [
    {
     "name": "stdout",
     "output_type": "stream",
     "text": [
      "Tuple as string: Hello world ! Python\n"
     ]
    }
   ],
   "source": [
    "my_tuple = ('Hello', 'world', '!', 'Python')\n",
    "\n",
    "# Convert tuple to string\n",
    "tuple_string = ' '.join(map(str, my_tuple))\n",
    "\n",
    "# Print the resulting string\n",
    "print(\"Tuple as string:\", tuple_string)\n"
   ]
  },
  {
   "cell_type": "markdown",
   "id": "aa3666cb-3979-443c-aa12-63933663a403",
   "metadata": {},
   "source": [
    "### Write a Python program to check whether an element exists within a tuple."
   ]
  },
  {
   "cell_type": "code",
   "execution_count": 73,
   "id": "25b9e6b5-95dd-47a5-9531-799fcf1c306a",
   "metadata": {},
   "outputs": [
    {
     "name": "stdout",
     "output_type": "stream",
     "text": [
      "The element 'b' exists in the tuple.\n"
     ]
    }
   ],
   "source": [
    "my_tuple = (1, 2, 3, 'a', 'b', 'c')\n",
    "\n",
    "# Element to check\n",
    "element_to_check = 'b'\n",
    "\n",
    "# Check if element exists in the tuple\n",
    "if element_to_check in my_tuple:\n",
    "    print(f\"The element '{element_to_check}' exists in the tuple.\")\n",
    "else:\n",
    "    print(f\"The element '{element_to_check}' does not exist in the tuple.\")\n"
   ]
  },
  {
   "cell_type": "markdown",
   "id": "a218ba2b-47ca-4ce6-9f2c-31167e964dab",
   "metadata": {},
   "source": [
    "### Write a Python program to find the length of a tuple. "
   ]
  },
  {
   "cell_type": "code",
   "execution_count": null,
   "id": "ed2b0d8b-a22f-4dad-9632-1d3f44f8f31d",
   "metadata": {},
   "outputs": [],
   "source": [
    "\n",
    "my_tuple = (1, 2, 3, 'a', 'b', 'c')\n",
    "\n",
    "# Find the length of the tuple\n",
    "tuple_length = len(my_tuple)\n",
    "\n",
    "# Print the length of the tuple\n",
    "print(\"Length of the tuple:\", tuple_length)\n"
   ]
  },
  {
   "cell_type": "markdown",
   "id": "3150a949-9ede-4de0-bd89-ae5afef62722",
   "metadata": {},
   "source": [
    "### Write a Python program to convert a list to a tuple. "
   ]
  },
  {
   "cell_type": "code",
   "execution_count": 75,
   "id": "435a06f0-e24e-407e-9962-0dcdee1fcfa3",
   "metadata": {},
   "outputs": [
    {
     "name": "stdout",
     "output_type": "stream",
     "text": [
      "Tuple converted from list: (1, 2, 3, 4, 5)\n"
     ]
    }
   ],
   "source": [
    "my_list = [1, 2, 3, 4, 5]\n",
    "\n",
    "# Convert list to tuple\n",
    "my_tuple = tuple(my_list)\n",
    "\n",
    "# Print the tuple\n",
    "print(\"Tuple converted from list:\", my_tuple)"
   ]
  },
  {
   "cell_type": "markdown",
   "id": "c281bda2-41b7-435f-99b8-c2f7f16b34a6",
   "metadata": {},
   "source": [
    "### Write a Python program to reverse a tuple. "
   ]
  },
  {
   "cell_type": "code",
   "execution_count": 77,
   "id": "b9f8c2eb-0d21-4ab6-86a7-3a7a3da1046e",
   "metadata": {},
   "outputs": [
    {
     "name": "stdout",
     "output_type": "stream",
     "text": [
      "Reversed tuple: (5, 4, 3, 2, 1)\n"
     ]
    }
   ],
   "source": [
    "original_tuple = (1, 2, 3, 4, 5)\n",
    "\n",
    "# Reverse the tuple using slicing\n",
    "reversed_tuple = original_tuple[::-1]\n",
    "\n",
    "# Print the reversed tuple\n",
    "print(\"Reversed tuple:\", reversed_tuple)"
   ]
  },
  {
   "cell_type": "markdown",
   "id": "0c52f410-03e8-4f8b-a7d8-10910643d8a7",
   "metadata": {},
   "source": [
    "### Write a Python program to replace last value of tuples in a list. "
   ]
  },
  {
   "cell_type": "code",
   "execution_count": 79,
   "id": "cd5b5ce5-b3d5-4a1b-9691-74dc0bece0ce",
   "metadata": {},
   "outputs": [
    {
     "name": "stdout",
     "output_type": "stream",
     "text": [
      "Updated list of tuples: [(1, 2, 10), (4, 5, 10), (7, 8, 10)]\n"
     ]
    }
   ],
   "source": [
    "tuple_list = [(1, 2, 3), (4, 5, 6), (7, 8, 9)]\n",
    "\n",
    "# New value to replace the last element\n",
    "new_value = 10\n",
    "\n",
    "# Replace the last value in each tuple and create a new list of tuples\n",
    "updated_tuple_list = [tuple(t[:-1]) + (new_value,) for t in tuple_list]\n",
    "\n",
    "# Print the updated list of tuples\n",
    "print(\"Updated list of tuples:\", updated_tuple_list)"
   ]
  },
  {
   "cell_type": "markdown",
   "id": "df7418db-317e-435b-939b-a330fd25b57c",
   "metadata": {},
   "source": [
    "### Write a Python program to remove an empty tuple(s) from a list of tuples"
   ]
  },
  {
   "cell_type": "code",
   "execution_count": 81,
   "id": "715af9f2-8866-4a6c-afb5-4ef329d87792",
   "metadata": {},
   "outputs": [
    {
     "name": "stdout",
     "output_type": "stream",
     "text": [
      "List of tuples after removing empty tuples: [(1, 2, 3), (4, 5), (6,)]\n"
     ]
    }
   ],
   "source": [
    "tuple_list = [(1, 2, 3), (), (4, 5), (), (), (6,), ()]\n",
    "\n",
    "# Remove empty tuples using list comprehension\n",
    "filtered_tuple_list = [tup for tup in tuple_list if tup]\n",
    "\n",
    "# Print the filtered list of tuples\n",
    "print(\"List of tuples after removing empty tuples:\", filtered_tuple_list)"
   ]
  },
  {
   "cell_type": "markdown",
   "id": "d9a9a3e8-c453-4bb9-a052-e08bd723a625",
   "metadata": {},
   "source": [
    "###  Write a Python program to unzip a list of tuples into individual lists."
   ]
  },
  {
   "cell_type": "code",
   "execution_count": 83,
   "id": "5651804c-1013-4bab-be49-453e06067e63",
   "metadata": {},
   "outputs": [
    {
     "name": "stdout",
     "output_type": "stream",
     "text": [
      "Unzipped lists:\n",
      "(1, 2, 3)\n",
      "('a', 'b', 'c')\n"
     ]
    }
   ],
   "source": [
    "tuple_list = [(1, 'a'), (2, 'b'), (3, 'c')]\n",
    "\n",
    "# Unzip the list of tuples into individual lists\n",
    "unzipped_lists = list(zip(*tuple_list))\n",
    "\n",
    "# Print the unzipped lists\n",
    "print(\"Unzipped lists:\")\n",
    "for lst in unzipped_lists:\n",
    "    print(lst)"
   ]
  },
  {
   "cell_type": "markdown",
   "id": "509e0451-cea0-4226-b23d-61272be39f0d",
   "metadata": {},
   "source": [
    "### Write a Python program to convert a list of tuples into a dictionary."
   ]
  },
  {
   "cell_type": "code",
   "execution_count": 85,
   "id": "0904f1d7-006b-4fbf-9b2a-db245b2669cc",
   "metadata": {},
   "outputs": [
    {
     "name": "stdout",
     "output_type": "stream",
     "text": [
      "Dictionary converted from list of tuples:\n",
      "{1: 'apple', 2: 'banana', 3: 'cherry'}\n"
     ]
    }
   ],
   "source": [
    "tuple_list = [(1, 'apple'), (2, 'banana'), (3, 'cherry')]\n",
    "\n",
    "# Convert list of tuples to dictionary\n",
    "result_dict = {key: value for key, value in tuple_list}\n",
    "\n",
    "# Print the resulting dictionary\n",
    "print(\"Dictionary converted from list of tuples:\")\n",
    "print(result_dict)"
   ]
  },
  {
   "cell_type": "markdown",
   "id": "150d307b-5c04-439f-af46-0701bb3e8ac1",
   "metadata": {},
   "source": [
    "### Write a Python script to sort (ascending and descending) a dictionary by value."
   ]
  },
  {
   "cell_type": "code",
   "execution_count": 87,
   "id": "db2d0709-1161-477d-9ad8-c83143c22439",
   "metadata": {},
   "outputs": [
    {
     "name": "stdout",
     "output_type": "stream",
     "text": [
      "Dictionary sorted by value in ascending order:\n",
      "{'banana': 2, 'date': 3, 'apple': 5, 'cherry': 8}\n",
      "\n",
      "Dictionary sorted by value in descending order:\n",
      "{'cherry': 8, 'apple': 5, 'date': 3, 'banana': 2}\n"
     ]
    }
   ],
   "source": [
    "my_dict = {'apple': 5, 'banana': 2, 'cherry': 8, 'date': 3}\n",
    "\n",
    "# Sort dictionary by value in ascending order\n",
    "sorted_dict_asc = dict(sorted(my_dict.items(), key=lambda item: item[1]))\n",
    "\n",
    "# Print sorted dictionary (ascending)\n",
    "print(\"Dictionary sorted by value in ascending order:\")\n",
    "print(sorted_dict_asc)\n",
    "\n",
    "# Sort dictionary by value in descending order\n",
    "sorted_dict_desc = dict(sorted(my_dict.items(), key=lambda item: item[1], reverse=True))\n",
    "\n",
    "# Print sorted dictionary (descending)\n",
    "print(\"\\nDictionary sorted by value in descending order:\")\n",
    "print(sorted_dict_desc)\n"
   ]
  },
  {
   "cell_type": "markdown",
   "id": "ed639922-e70f-48f8-ae3e-4a6ff77c2009",
   "metadata": {},
   "source": [
    "### Write a Python script to concatenate following dictionaries to create a new one. "
   ]
  },
  {
   "cell_type": "code",
   "execution_count": 89,
   "id": "56863a68-c6e9-46e4-89fe-fa1e10361390",
   "metadata": {},
   "outputs": [
    {
     "name": "stdout",
     "output_type": "stream",
     "text": [
      "Concatenated Dictionary: {'a': 1, 'b': 2, 'c': 3, 'd': 4, 'e': 5}\n"
     ]
    }
   ],
   "source": [
    "dict1 = {'a': 1, 'b': 2}\n",
    "dict2 = {'c': 3, 'd': 4}\n",
    "dict3 = {'e': 5}\n",
    "\n",
    "# Concatenate dictionaries using dictionary unpacking\n",
    "concatenated_dict = {**dict1, **dict2, **dict3}\n",
    "\n",
    "# Print the concatenated dictionary\n",
    "print(\"Concatenated Dictionary:\", concatenated_dict)\n"
   ]
  },
  {
   "cell_type": "markdown",
   "id": "efd3ef42-e6cc-44b0-81e4-46ef30703981",
   "metadata": {},
   "source": [
    "### Write a Python script to check if a given key already exists in a dictionary. "
   ]
  },
  {
   "cell_type": "code",
   "execution_count": 91,
   "id": "9417938f-ca8c-461b-be34-8c08a0e73ba0",
   "metadata": {},
   "outputs": [
    {
     "name": "stdout",
     "output_type": "stream",
     "text": [
      "The key 'b' exists in the dictionary.\n"
     ]
    }
   ],
   "source": [
    "my_dict = {'a': 1, 'b': 2, 'c': 3}\n",
    "\n",
    "# Key to check\n",
    "key_to_check = 'b'\n",
    "\n",
    "# Check if key exists in the dictionary\n",
    "if key_to_check in my_dict:\n",
    "    print(f\"The key '{key_to_check}' exists in the dictionary.\")\n",
    "else:\n",
    "    print(f\"The key '{key_to_check}' does not exist in the dictionary.\")\n"
   ]
  },
  {
   "cell_type": "markdown",
   "id": "23ae90ac-6618-4a1f-bac5-f2f25210afa8",
   "metadata": {},
   "source": [
    "### Write a Python script to print a dictionary where the keys are numbers between 1 and 15."
   ]
  },
  {
   "cell_type": "code",
   "execution_count": 93,
   "id": "ef75bf1f-16d0-4360-a875-a7f08aeeace2",
   "metadata": {},
   "outputs": [
    {
     "name": "stdout",
     "output_type": "stream",
     "text": [
      "Dictionary with keys from 1 to 15:\n",
      "{1: 'value_1', 2: 'value_2', 3: 'value_3', 4: 'value_4', 5: 'value_5', 6: 'value_6', 7: 'value_7', 8: 'value_8', 9: 'value_9', 10: 'value_10', 11: 'value_11', 12: 'value_12', 13: 'value_13', 14: 'value_14', 15: 'value_15'}\n"
     ]
    }
   ],
   "source": [
    "my_dict = {}\n",
    "\n",
    "# Populate the dictionary with keys from 1 to 15 and their corresponding values\n",
    "for i in range(1, 16):\n",
    "    my_dict[i] = f\"value_{i}\"  # Example: you can set any value here\n",
    "\n",
    "# Print the dictionary\n",
    "print(\"Dictionary with keys from 1 to 15:\")\n",
    "print(my_dict)"
   ]
  },
  {
   "cell_type": "markdown",
   "id": "dc3634ac-efad-49f3-a32a-ded14380cd03",
   "metadata": {},
   "source": [
    "###  Write a Python program to check multiple keys exists in a dictionary "
   ]
  },
  {
   "cell_type": "code",
   "execution_count": 95,
   "id": "503b1ac7-2730-43db-82bd-0a9d3076e562",
   "metadata": {},
   "outputs": [
    {
     "name": "stdout",
     "output_type": "stream",
     "text": [
      "The key 'a' exists in the dictionary with value: 1\n",
      "The key 'c' exists in the dictionary with value: 3\n",
      "The key 'e' does not exist in the dictionary\n"
     ]
    }
   ],
   "source": [
    "my_dict = {'a': 1, 'b': 2, 'c': 3, 'd': 4}\n",
    "\n",
    "# Keys to check\n",
    "keys_to_check = ['a', 'c', 'e']\n",
    "\n",
    "# Check if keys exist in the dictionary\n",
    "for key in keys_to_check:\n",
    "    if key in my_dict:\n",
    "        print(f\"The key '{key}' exists in the dictionary with value: {my_dict[key]}\")\n",
    "    else:\n",
    "        print(f\"The key '{key}' does not exist in the dictionary\")"
   ]
  },
  {
   "cell_type": "markdown",
   "id": "9023d2c5-8539-4f20-8640-70faac39d54c",
   "metadata": {},
   "source": [
    "###  Write a Python script to merge two Python dictionaries "
   ]
  },
  {
   "cell_type": "code",
   "execution_count": 97,
   "id": "3c4c694e-5dc7-4c92-96c0-0d2037c03b9e",
   "metadata": {},
   "outputs": [
    {
     "name": "stdout",
     "output_type": "stream",
     "text": [
      "Merged Dictionary:\n",
      "{'a': 1, 'b': 2, 'c': 3, 'd': 4}\n"
     ]
    }
   ],
   "source": [
    "dict1 = {'a': 1, 'b': 2}\n",
    "dict2 = {'c': 3, 'd': 4}\n",
    "\n",
    "# Merge dict2 into dict1\n",
    "dict1.update(dict2)\n",
    "\n",
    "# Print the merged dictionary\n",
    "print(\"Merged Dictionary:\")\n",
    "print(dict1)\n"
   ]
  },
  {
   "cell_type": "markdown",
   "id": "f7f50a28-74eb-4f51-92b5-146f568f42cf",
   "metadata": {},
   "source": [
    "### Write a Python program to map two lists into a dictionary"
   ]
  },
  {
   "cell_type": "code",
   "execution_count": 99,
   "id": "c371c45d-f9ab-4e37-b8ed-4c4ff99fc9ad",
   "metadata": {},
   "outputs": [
    {
     "name": "stdout",
     "output_type": "stream",
     "text": [
      "Mapped Dictionary:\n",
      "{'a': 1, 'b': 2, 'c': 3}\n"
     ]
    }
   ],
   "source": [
    "keys = ['a', 'b', 'c']\n",
    "values = [1, 2, 3]\n",
    "\n",
    "# Create a dictionary by mapping keys to values\n",
    "mapped_dict = {k: v for k, v in zip(keys, values)}\n",
    "\n",
    "# Print the resulting dictionary\n",
    "print(\"Mapped Dictionary:\")\n",
    "print(mapped_dict)"
   ]
  },
  {
   "cell_type": "markdown",
   "id": "3710e6f7-0c1d-459e-bd64-6a50f5a91e73",
   "metadata": {},
   "source": [
    "### Write a Python program to combine two dictionary adding values for common keys. "
   ]
  },
  {
   "cell_type": "code",
   "execution_count": 101,
   "id": "eb950f47-df11-466c-b86e-81ff15645dfc",
   "metadata": {},
   "outputs": [
    {
     "name": "stdout",
     "output_type": "stream",
     "text": [
      "Combined Dictionary with added values for common keys:\n",
      "{'a': 400, 'b': 400, 'c': 300, 'd': 400}\n"
     ]
    }
   ],
   "source": [
    "d1 = {'a': 100, 'b': 200, 'c': 300}\n",
    "d2 = {'a': 300, 'b': 200, 'd': 400}\n",
    "\n",
    "# Create a new dictionary to store the combined values\n",
    "combined_dict = {}\n",
    "\n",
    "# Add values from d1 to combined_dict\n",
    "for key in d1:\n",
    "    combined_dict[key] = d1[key]\n",
    "\n",
    "# Add values from d2 to combined_dict, summing values for common keys\n",
    "for key in d2:\n",
    "    if key in combined_dict:\n",
    "        combined_dict[key] += d2[key]\n",
    "    else:\n",
    "        combined_dict[key] = d2[key]\n",
    "\n",
    "# Print the combined dictionary\n",
    "print(\"Combined Dictionary with added values for common keys:\")\n",
    "print(combined_dict)"
   ]
  },
  {
   "cell_type": "markdown",
   "id": "9f8c700d-8cf7-4de5-b575-39005e3f6df3",
   "metadata": {},
   "source": [
    "### Write a Python program to print all unique values in a dictionary."
   ]
  },
  {
   "cell_type": "code",
   "execution_count": 103,
   "id": "c06d4385-5f65-4e5a-8a47-4bd9ce9c989e",
   "metadata": {},
   "outputs": [
    {
     "name": "stdout",
     "output_type": "stream",
     "text": [
      "Unique values in the dictionary: {1, 2, 3}\n"
     ]
    }
   ],
   "source": [
    "my_dict = {'a': 1, 'b': 2, 'c': 1, 'd': 3, 'e': 2, 'f': 1}\n",
    "\n",
    "# Use a set to store unique values\n",
    "unique_values = set()\n",
    "\n",
    "for value in my_dict.values():\n",
    "    unique_values.add(value)\n",
    "\n",
    "# Print all unique values\n",
    "print(\"Unique values in the dictionary:\", unique_values)"
   ]
  },
  {
   "cell_type": "markdown",
   "id": "d8b8991e-cd02-453e-b1d4-209db32491c7",
   "metadata": {},
   "source": [
    "### Write a Python program to find the highest 3 values in a dictionary "
   ]
  },
  {
   "cell_type": "code",
   "execution_count": 105,
   "id": "50bd73ab-2521-4c60-8222-036a1eec599b",
   "metadata": {},
   "outputs": [
    {
     "name": "stdout",
     "output_type": "stream",
     "text": [
      "Highest 3 values in the dictionary:\n",
      "Key: d, Value: 30\n",
      "Key: e, Value: 25\n",
      "Key: b, Value: 20\n"
     ]
    }
   ],
   "source": [
    "my_dict = {'a': 10, 'b': 20, 'c': 5, 'd': 30, 'e': 25}\n",
    "\n",
    "# Sorting the dictionary items by values in descending order\n",
    "sorted_items = sorted(my_dict.items(), key=lambda x: x[1], reverse=True)\n",
    "\n",
    "# Extracting the top 3 items\n",
    "highest_three = sorted_items[:3]\n",
    "\n",
    "# Printing the highest 3 values\n",
    "print(\"Highest 3 values in the dictionary:\")\n",
    "for item in highest_three:\n",
    "    print(f\"Key: {item[0]}, Value: {item[1]}\")"
   ]
  },
  {
   "cell_type": "markdown",
   "id": "91161848-640c-4255-9a4e-b7dd77f88ae2",
   "metadata": {},
   "source": [
    "### Write a Python program to create a dictionary from a string. "
   ]
  },
  {
   "cell_type": "code",
   "execution_count": 107,
   "id": "a7e99e2f-f6f1-4751-ae5a-2a89ed022c75",
   "metadata": {},
   "outputs": [
    {
     "name": "stdout",
     "output_type": "stream",
     "text": [
      "Dictionary created from string:\n",
      "{'key1': 'value1', 'key2': 'value2', 'key3': 'value3'}\n"
     ]
    }
   ],
   "source": [
    "input_string = \"key1=value1, key2=value2, key3=value3\"\n",
    "\n",
    "# Split the string into pairs by splitting at ', '\n",
    "pairs = input_string.split(', ')\n",
    "result_dict = {}\n",
    "\n",
    "for pair in pairs:\n",
    "    # Split each pair at '=' to get key and value\n",
    "    key, value = pair.split('=')\n",
    "    result_dict[key.strip()] = value.strip()  # strip() removes any leading/trailing whitespace\n",
    "\n",
    "# Print the resulting dictionary\n",
    "print(\"Dictionary created from string:\")\n",
    "print(result_dict)\n"
   ]
  },
  {
   "cell_type": "markdown",
   "id": "d0694398-b88a-4196-b88b-9cfecf101ace",
   "metadata": {},
   "source": [
    "### Write a Python function to calculate the factorial of a number"
   ]
  },
  {
   "cell_type": "code",
   "execution_count": 109,
   "id": "63356309-1159-4962-89be-7149636ab96a",
   "metadata": {},
   "outputs": [
    {
     "name": "stdout",
     "output_type": "stream",
     "text": [
      "Dictionary with character counts:\n",
      "{'w': 1, '3': 1, 'r': 2, 'e': 2, 's': 1, 'o': 1, 'u': 1, 'c': 1}\n"
     ]
    }
   ],
   "source": [
    "# Sample string\n",
    "input_string = 'w3resource'\n",
    "char_count = {}\n",
    "\n",
    "for char in input_string:\n",
    "    # Check if the character is already in the dictionary\n",
    "    if char in char_count:\n",
    "        # Increment the count for this character\n",
    "        char_count[char] += 1\n",
    "    else:\n",
    "        # Initialize the count for this character\n",
    "        char_count[char] = 1\n",
    "\n",
    "# Print the resulting dictionary\n",
    "print(\"Dictionary with character counts:\")\n",
    "print(char_count)\n"
   ]
  },
  {
   "cell_type": "markdown",
   "id": "929a1ee7-4a13-4ed0-b8b9-80f68fe28440",
   "metadata": {},
   "source": [
    "### Write a Python function to check whether a number is in a given range "
   ]
  },
  {
   "cell_type": "code",
   "execution_count": 111,
   "id": "a9979b62-8826-42f3-881e-6748ab9dfbd9",
   "metadata": {},
   "outputs": [
    {
     "name": "stdout",
     "output_type": "stream",
     "text": [
      "15 is in the range [10, 20]\n"
     ]
    }
   ],
   "source": [
    "number = 15\n",
    "start = 10\n",
    "end = 20\n",
    "\n",
    "# Check if number is within the range [start, end]\n",
    "if start <= number <= end:\n",
    "    print(f\"{number} is in the range [{start}, {end}]\")\n",
    "else:\n",
    "    print(f\"{number} is NOT in the range [{start}, {end}]\")"
   ]
  },
  {
   "cell_type": "markdown",
   "id": "761254b1-2814-42d4-9512-54e4f718efac",
   "metadata": {},
   "source": [
    "### Write a Python function to check whether a number is perfect or not. "
   ]
  },
  {
   "cell_type": "code",
   "execution_count": 121,
   "id": "b9b8cf16-d4d8-4522-957d-723a2bfe10ed",
   "metadata": {},
   "outputs": [
    {
     "name": "stdin",
     "output_type": "stream",
     "text": [
      "Enter a Valid Number:  28\n"
     ]
    },
    {
     "name": "stdout",
     "output_type": "stream",
     "text": [
      "28 is a perfect number.\n"
     ]
    }
   ],
   "source": [
    "number = int(input(\"Enter a Valid Number: \"))\n",
    "sum_of_divisors = 0\n",
    "\n",
    "# Find divisors (excluding number itself)\n",
    "for i in range(1, number):\n",
    "    if number % i == 0:\n",
    "        sum_of_divisors += i\n",
    "\n",
    "# Check if the sum of divisors equals the number\n",
    "if sum_of_divisors == number:\n",
    "    print(f\"{number} is a perfect number.\")\n",
    "else:\n",
    "    print(f\"{number} is not a perfect number.\")"
   ]
  },
  {
   "cell_type": "markdown",
   "id": "75032fb2-f032-4cb2-a5ba-d4607c480cad",
   "metadata": {},
   "source": [
    "### Write a Python function that checks whether a passed string is palindrome or not "
   ]
  },
  {
   "cell_type": "code",
   "execution_count": 123,
   "id": "ef47dd69-d5be-4592-9f8f-954a407a9d36",
   "metadata": {},
   "outputs": [
    {
     "name": "stdout",
     "output_type": "stream",
     "text": [
      "The string 'madam' is a palindrome.\n"
     ]
    }
   ],
   "source": [
    "input_string = \"madam\"\n",
    "\n",
    "# Reverse the string\n",
    "reversed_string = input_string[::-1]\n",
    "\n",
    "# Check if the original string is equal to its reverse\n",
    "if input_string == reversed_string:\n",
    "    print(f\"The string '{input_string}' is a palindrome.\")\n",
    "else:\n",
    "    print(f\"The string '{input_string}' is not a palindrome.\")"
   ]
  },
  {
   "cell_type": "markdown",
   "id": "60fdfa7e-a3fd-4e3a-b20c-4f6dd30a7e36",
   "metadata": {},
   "source": [
    "### What is lambda function in python? What we call a function which is incomplete version of a function?\n",
    "\n",
    "a lambda function is a small anonymous function defined using the lambda keyword. Lambda functions can have any number of arguments but only one expression.\n",
    "An incomplete version of a function is typically referred to as a partial function."
   ]
  },
  {
   "cell_type": "markdown",
   "id": "be5999b6-1b57-434e-879e-114ee184c436",
   "metadata": {},
   "source": [
    "### How Many Basic Types Of Functions Are Available In Python? \n",
    "\n",
    "There are 7 types of basic function available in python. These are Built-in Function, USser-Defined FUnction, Generator Function, Anonymous Function, Higher-Order Function, Decorator Fucntion, Recursive Funtion"
   ]
  },
  {
   "cell_type": "markdown",
   "id": "6c0067eb-e6ca-47df-9a2e-ec02a1b1e63e",
   "metadata": {},
   "source": [
    "###  How can you pick a random item from a range? "
   ]
  },
  {
   "cell_type": "code",
   "execution_count": 129,
   "id": "3fdb21cb-ab08-4544-83d7-03ee9a1de41b",
   "metadata": {},
   "outputs": [
    {
     "data": {
      "text/plain": [
       "3"
      ]
     },
     "execution_count": 129,
     "metadata": {},
     "output_type": "execute_result"
    }
   ],
   "source": [
    "import random\n",
    "\n",
    "# Pick a random item from the range [start, end]\n",
    "random_number = random.randint(1, 10)\n",
    "random_number\n"
   ]
  },
  {
   "cell_type": "markdown",
   "id": "2da339e7-dc01-486e-8c1f-10ea5ecccbd9",
   "metadata": {},
   "source": [
    "### How can you get a random number in python? "
   ]
  },
  {
   "cell_type": "code",
   "execution_count": 133,
   "id": "c42790ba-8a2e-470c-ad28-e4841f740190",
   "metadata": {},
   "outputs": [
    {
     "data": {
      "text/plain": [
       "0.23406624153981326"
      ]
     },
     "execution_count": 133,
     "metadata": {},
     "output_type": "execute_result"
    }
   ],
   "source": [
    "import random\n",
    "\n",
    "# Generate a random number\n",
    "random_number = random.random()\n",
    "random_number"
   ]
  },
  {
   "cell_type": "markdown",
   "id": "630f6c00-b07e-4314-a2d4-10f42671f11d",
   "metadata": {},
   "source": [
    "### Write a Python program to calculate the area of a parallelogram "
   ]
  },
  {
   "cell_type": "code",
   "execution_count": 135,
   "id": "907fd14c-53a5-4379-9237-edf866432e5f",
   "metadata": {},
   "outputs": [
    {
     "name": "stdin",
     "output_type": "stream",
     "text": [
      "Enter the Base:  4\n",
      "Enter the Height:  5\n"
     ]
    },
    {
     "name": "stdout",
     "output_type": "stream",
     "text": [
      "The area of the parallelogram with base 4 and height 5 is: 20\n"
     ]
    }
   ],
   "source": [
    "base = int(input(\"Enter the Base: \"))\n",
    "height = int(input(\"Enter the Height: \"))\n",
    "\n",
    "# Calculate the area of the parallelogram\n",
    "area = base * height\n",
    "\n",
    "# Print the calculated area\n",
    "print(f\"The area of the parallelogram with base {base} and height {height} is: {area}\")"
   ]
  },
  {
   "cell_type": "markdown",
   "id": "ed8510a2-d8fb-4e7f-a23d-f9eba3d9330e",
   "metadata": {},
   "source": [
    "### Write a Python program to calculate surface volume and area of a cylinder "
   ]
  },
  {
   "cell_type": "code",
   "execution_count": 154,
   "id": "f9aee6e8-93d6-4446-b208-d1d5574a5757",
   "metadata": {},
   "outputs": [
    {
     "name": "stdin",
     "output_type": "stream",
     "text": [
      "Enter the Radius:  3.5\n",
      "Enter the Height:  7.2\n"
     ]
    },
    {
     "name": "stdout",
     "output_type": "stream",
     "text": [
      "Surface Area of the Cylinder: 235.31 square units\n",
      "Volume of the Cylinder: 277.09 cubic units\n"
     ]
    }
   ],
   "source": [
    "import math\n",
    "\n",
    "radius = float(input(\"Enter the Radius: \"))\n",
    "height = float(input(\"Enter the Height: \"))\n",
    "\n",
    "# Calculate the surface area of the cylinder\n",
    "surface_area = 2 * math.pi * radius * (radius + height)\n",
    "\n",
    "# Calculate the volume of the cylinder\n",
    "volume = math.pi * radius**2 * height\n",
    "\n",
    "# Print the calculated surface area and volume\n",
    "print(f\"Surface Area of the Cylinder: {surface_area:.2f} square units\")\n",
    "print(f\"Volume of the Cylinder: {volume:.2f} cubic units\")\n"
   ]
  },
  {
   "cell_type": "markdown",
   "id": "df361e86-fad7-45a9-83fe-4ab66fc7cafe",
   "metadata": {},
   "source": [
    "### Write a Python program to returns sum of all divisors of a number "
   ]
  },
  {
   "cell_type": "code",
   "execution_count": 156,
   "id": "2bca9023-dd27-4e9d-ba58-94b5e079d0f8",
   "metadata": {},
   "outputs": [
    {
     "name": "stdin",
     "output_type": "stream",
     "text": [
      "Enter the number:  28\n"
     ]
    },
    {
     "name": "stdout",
     "output_type": "stream",
     "text": [
      "The sum of all divisors of 28 is: 56\n"
     ]
    }
   ],
   "source": [
    "number = int(input(\"Enter the number: \"))\n",
    "sum_of_divisors = 0\n",
    "\n",
    "# Iterate through each number up to 'number'\n",
    "for i in range(1, number + 1):\n",
    "    if number % i == 0:  # Check if 'i' is a divisor of 'number'\n",
    "        sum_of_divisors += i  # Add 'i' to sum_of_divisors\n",
    "\n",
    "# Print the sum of all divisors\n",
    "print(f\"The sum of all divisors of {number} is: {sum_of_divisors}\")\n"
   ]
  },
  {
   "cell_type": "markdown",
   "id": "2fe0154d-b70e-4ae1-9d52-d54eedd11fee",
   "metadata": {},
   "source": [
    "### Write a Python program to find the maximum and minimum numbers from the specified decimal numbers."
   ]
  },
  {
   "cell_type": "code",
   "execution_count": 158,
   "id": "8f9def45-d136-4810-ab5a-04dc52ebc4fb",
   "metadata": {},
   "outputs": [
    {
     "name": "stdout",
     "output_type": "stream",
     "text": [
      "Maximum number: 3.14\n",
      "Minimum number: 0.577\n"
     ]
    }
   ],
   "source": [
    "numbers = [3.14, 2.71, 1.618, 0.577, 1.414]\n",
    "\n",
    "# Find maximum and minimum numbers\n",
    "max_number = max(numbers)\n",
    "min_number = min(numbers)\n",
    "\n",
    "# Print the results\n",
    "print(f\"Maximum number: {max_number}\")\n",
    "print(f\"Minimum number: {min_number}\")"
   ]
  }
 ],
 "metadata": {
  "kernelspec": {
   "display_name": "Python 3 (ipykernel)",
   "language": "python",
   "name": "python3"
  },
  "language_info": {
   "codemirror_mode": {
    "name": "ipython",
    "version": 3
   },
   "file_extension": ".py",
   "mimetype": "text/x-python",
   "name": "python",
   "nbconvert_exporter": "python",
   "pygments_lexer": "ipython3",
   "version": "3.12.4"
  }
 },
 "nbformat": 4,
 "nbformat_minor": 5
}
